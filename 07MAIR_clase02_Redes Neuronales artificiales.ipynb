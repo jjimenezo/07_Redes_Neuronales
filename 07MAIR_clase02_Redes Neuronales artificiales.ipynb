{
 "cells": [
  {
   "cell_type": "markdown",
   "metadata": {
    "slideshow": {
     "slide_type": "slide"
    }
   },
   "source": [
    "<img src=\"img/viu_logo.png\" width=\"200\">\n",
    "\n",
    "# 07MAIR - Redes Neuronales y Deep Learning\n",
    "## Clase 02: Redes neuronales artificiales\n",
    "<img src=\"img/keras_logo.jpg\" width=\"200\">\n",
    "\n",
    "### Profesores: Adrián Colomer Granero / Gabriel Enrique Muñoz Ríos\n",
    "### Autor: Carlos Fernández Musoles"
   ]
  },
  {
   "cell_type": "markdown",
   "metadata": {
    "slideshow": {
     "slide_type": "slide"
    }
   },
   "source": [
    "### Sumario\n",
    "- Funciones de activación\n",
    "- Visualización con Tensorflow playground\n",
    "- Ejemplo mnist keras\n",
    "- Optimización"
   ]
  },
  {
   "cell_type": "markdown",
   "metadata": {
    "slideshow": {
     "slide_type": "subslide"
    }
   },
   "source": [
    "<img src=\"img/xor_multi_layer.png\" width=\"300\">"
   ]
  },
  {
   "cell_type": "markdown",
   "metadata": {
    "slideshow": {
     "slide_type": "subslide"
    }
   },
   "source": [
    "<img src=\"img/xor_multi_layer_solucion.png\" width=\"300\">"
   ]
  },
  {
   "cell_type": "markdown",
   "metadata": {
    "slideshow": {
     "slide_type": "subslide"
    }
   },
   "source": [
    "### Diferencias en batch size?\n",
    "- Batch size 1\n",
    "- tamaño del training set > Batch size > 1\n",
    "- Batch size == tamaño del training set"
   ]
  },
  {
   "cell_type": "markdown",
   "metadata": {
    "slideshow": {
     "slide_type": "fragment"
    }
   },
   "source": [
    "- Batch size 1 \n",
    " - menos memoria, convergencia más lenta, época lenta"
   ]
  },
  {
   "cell_type": "markdown",
   "metadata": {
    "slideshow": {
     "slide_type": "fragment"
    }
   },
   "source": [
    "- Batch size == tamaño del training set\n",
    " - época es rápida, más memoria, más épocas"
   ]
  },
  {
   "cell_type": "markdown",
   "metadata": {
    "slideshow": {
     "slide_type": "fragment"
    }
   },
   "source": [
    "- tamaño del training set > Batch size > 1\n",
    " - balance entre las dos\n",
    " - valor exacto: ¿arte?"
   ]
  },
  {
   "cell_type": "markdown",
   "metadata": {
    "slideshow": {
     "slide_type": "slide"
    }
   },
   "source": [
    "# Parámetros en el entrenamiento de ANNs\n",
    "\n",
    "- Época (1 pase de todos los training samples)\n",
    "- batch size (número de training samples considerados para hacer una modificación de los parámetros de la red)\n",
    "- learning rate (magnitud del cambio en cada actualización)\n",
    "- función de pérdida (error entre lo esperado y lo hallado)"
   ]
  },
  {
   "cell_type": "markdown",
   "metadata": {
    "slideshow": {
     "slide_type": "fragment"
    }
   },
   "source": [
    "- tradeoffs: \n",
    " - batch size (alto lento en entrenar, mucha memoria, bajo poca memoria, erratico en bajar el error)\n",
    " - learning rate (alto problemas para alcanzar minimos globales, bajo lentitud y posible estancamiento en minimo local).\n",
    " \n",
    "VIsualización de entrenamiento con TensorFlow playground https://playground.tensorflow.org"
   ]
  },
  {
   "cell_type": "markdown",
   "metadata": {
    "slideshow": {
     "slide_type": "slide"
    }
   },
   "source": [
    "## Función de activación \n",
    "\n",
    "Muchas disponibles: https://en.wikipedia.org/wiki/Activation_function"
   ]
  },
  {
   "cell_type": "markdown",
   "metadata": {
    "slideshow": {
     "slide_type": "subslide"
    }
   },
   "source": [
    "#### Umbral\n",
    "<img src=\"img/stepfunc.png\" width=\"300\">\n",
    "\n",
    "Fuente: Wikipedia https://en.wikipedia.org/wiki/Step_function\n",
    "\n",
    "- Input > umbral = 1, else 0"
   ]
  },
  {
   "cell_type": "markdown",
   "metadata": {
    "slideshow": {
     "slide_type": "fragment"
    }
   },
   "source": [
    "- Difícil convergencia durante entrenamiento\n",
    "- Para multiclase, cómo decidir el output correcto (tres 1 y un 0)"
   ]
  },
  {
   "cell_type": "markdown",
   "metadata": {
    "slideshow": {
     "slide_type": "subslide"
    }
   },
   "source": [
    "#### Linear\n",
    "\n",
    "<img src=\"img/linear.png\" width=\"300\">\n",
    "\n",
    "Fuente: Wikipedia https://en.wikipedia.org/wiki/Activation_function \n",
    "\n",
    "- Input - output linear\n",
    "- Output -inf a +inf"
   ]
  },
  {
   "cell_type": "markdown",
   "metadata": {
    "slideshow": {
     "slide_type": "fragment"
    }
   },
   "source": [
    "- Combinación de funciones lineales da una funcion lineal\n",
    "- Explosión de valores (dificil entrenamiento)"
   ]
  },
  {
   "cell_type": "markdown",
   "metadata": {
    "slideshow": {
     "slide_type": "subslide"
    }
   },
   "source": [
    "#### Sigmoide\n",
    "\n",
    "<img src=\"img/sigmoid.png\" width=\"300\">\n",
    "\n",
    "- No linear\n",
    "- Output 0 a 1"
   ]
  },
  {
   "cell_type": "markdown",
   "metadata": {
    "slideshow": {
     "slide_type": "fragment"
    }
   },
   "source": [
    "- Problema: entrenamiento puede ser lento cuando los valores residen en los extremos"
   ]
  },
  {
   "cell_type": "markdown",
   "metadata": {
    "slideshow": {
     "slide_type": "subslide"
    }
   },
   "source": [
    "#### Tangencial\n",
    "\n",
    "<img src=\"img/tanh.png\" width=\"300\">\n",
    "\n",
    "Fuente: Wolfram https://reference.wolfram.com/language/ref/Tanh.html\n",
    "\n",
    "- No linear\n",
    "- Output -1 a 1"
   ]
  },
  {
   "cell_type": "markdown",
   "metadata": {
    "slideshow": {
     "slide_type": "fragment"
    }
   },
   "source": [
    "- Gradiente más fuerte que sigmoide (derivadas son más intensas, por lo que la convergencia puede dificultarse)"
   ]
  },
  {
   "cell_type": "markdown",
   "metadata": {
    "slideshow": {
     "slide_type": "subslide"
    }
   },
   "source": [
    "#### ReLU (Rectified Linear Unit)\n",
    "\n",
    "<img src=\"img/relu.png\" width=\"300\">\n",
    "\n",
    "Fuente: Wikipedia https://en.wikipedia.org/wiki/Rectifier_(neural_networks)\n",
    "\n",
    "- No linear\n",
    "- Output 0 a +inf"
   ]
  },
  {
   "cell_type": "markdown",
   "metadata": {
    "slideshow": {
     "slide_type": "fragment"
    }
   },
   "source": [
    "- Cualquier función puede aproximarse con una combinacion de ReLUs\n",
    "- Aunque puede explotar (lado positivo) es más eficiente (menos calculos) que sigmoid o tanh\n",
    " - sigmoid / tanh requieren que todas las neuronas emitan un valor\n",
    " - calculo de la función de activacion es mas costoso\n",
    " - con ReLU, muchas serán 0 (sin calculo)"
   ]
  },
  {
   "cell_type": "markdown",
   "metadata": {
    "slideshow": {
     "slide_type": "subslide"
    }
   },
   "source": [
    "### La no linearidad de la funcion de activación es lo que permite a las ANNs aprender decision boundaries que no son lineales"
   ]
  },
  {
   "cell_type": "markdown",
   "metadata": {
    "slideshow": {
     "slide_type": "subslide"
    }
   },
   "source": [
    "### Variaciones de SGD\n",
    "- rmsprop: dividir gradiente entre la media de las magnitudes recientes \n",
    "- momentum: la magnitud del cambio al actualizar parametros depende del gradiente actual y del cambio anterior. velocity = past_vel * momentum + learning_rate * gradient\n",
    "- Otros disponibles en Keras https://keras.io/optimizers/"
   ]
  },
  {
   "cell_type": "markdown",
   "metadata": {
    "slideshow": {
     "slide_type": "slide"
    }
   },
   "source": [
    "# Instalacion de Keras\n",
    "- instalacion backend (GPU, CPU)\n",
    "```python\n",
    "pip install tensorflow\n",
    "```\n",
    "- Se puede utilizar la version GPU\n",
    " - Mas info https://www.tensorflow.org/install/gpu"
   ]
  },
  {
   "cell_type": "markdown",
   "metadata": {
    "slideshow": {
     "slide_type": "fragment"
    }
   },
   "source": [
    "- Instanacion de keras (pip)\n",
    "```python\n",
    "pip install keras\n",
    "```"
   ]
  },
  {
   "cell_type": "markdown",
   "metadata": {
    "slideshow": {
     "slide_type": "subslide"
    }
   },
   "source": [
    "## Elemplo\n",
    "Keras y el dataset MNIST para el reconocimiento de digitos escritos a mano"
   ]
  },
  {
   "cell_type": "code",
   "execution_count": 1,
   "metadata": {},
   "outputs": [
    {
     "name": "stderr",
     "output_type": "stream",
     "text": [
      "Using TensorFlow backend.\n"
     ]
    }
   ],
   "source": [
    "# cargar el dataset\n",
    "from keras.datasets import mnist\n",
    "\n",
    "# dividir en training y testing sets\n",
    "(train_data, train_labels), (test_data, test_labels) = mnist.load_data()"
   ]
  },
  {
   "cell_type": "code",
   "execution_count": 3,
   "metadata": {},
   "outputs": [
    {
     "data": {
      "image/png": "[encoded data removed]",
      "text/plain": [
       "<Figure size 432x288 with 1 Axes>"
      ]
     },
     "metadata": {
      "needs_background": "light"
     },
     "output_type": "display_data"
    },
    {
     "name": "stdout",
     "output_type": "stream",
     "text": [
      "Label 5\n"
     ]
    }
   ],
   "source": [
    "# mostrar una imagen de prueba\n",
    "import matplotlib.pyplot as plt\n",
    "%matplotlib inline\n",
    "\n",
    "ELEMENT=100\n",
    "\n",
    "plt.imshow(train_data[ELEMENT])\n",
    "plt.show()\n",
    "print('Label {}'.format(train_labels[ELEMENT]))"
   ]
  },
  {
   "cell_type": "code",
   "execution_count": 4,
   "metadata": {},
   "outputs": [
    {
     "data": {
      "text/plain": [
       "(60000, 28, 28)"
      ]
     },
     "execution_count": 4,
     "metadata": {},
     "output_type": "execute_result"
    }
   ],
   "source": [
    "train_data.shape\n",
    "# tres dimensiones\n",
    "    # 0 == muestras \n",
    "    # 1 == x coord\n",
    "    # 2 == y coord"
   ]
  },
  {
   "cell_type": "code",
   "execution_count": 5,
   "metadata": {},
   "outputs": [],
   "source": [
    "# definicion del modelo ANN\n",
    "from keras import models\n",
    "from keras import layers\n",
    "\n",
    "network = models.Sequential()\n",
    "# queremos capas conectadas en feedforward (todas las unidades de una capa a todas las unidades de la siguiente)\n",
    "network.add(layers.Dense(512,activation='relu',input_shape=(28*28,)))\n",
    "network.add(layers.Dense(10,activation='softmax'))"
   ]
  },
  {
   "cell_type": "code",
   "execution_count": 6,
   "metadata": {},
   "outputs": [],
   "source": [
    "# compilar el modelo\n",
    "# elegimos funcion de perdida, algoritmo de descenso de gradiente\n",
    "network.compile(optimizer='rmsprop',\n",
    "               loss='categorical_crossentropy',\n",
    "               metrics=['accuracy'])"
   ]
  },
  {
   "cell_type": "markdown",
   "metadata": {},
   "source": [
    "Transformar los datos\n",
    "- eliminar una dimension\n",
    "- cambiar rango de 0-255 a 0-1\n",
    "- labels categoricas"
   ]
  },
  {
   "cell_type": "code",
   "execution_count": 7,
   "metadata": {},
   "outputs": [],
   "source": [
    "# Transformacion de los datos\n",
    "# redimensionamos a 1D cada imagen\n",
    "train_data = train_data.reshape((60000,28*28))\n",
    "test_data = test_data.reshape((10000,28*28))"
   ]
  },
  {
   "cell_type": "code",
   "execution_count": 8,
   "metadata": {},
   "outputs": [],
   "source": [
    "# normalizamos los datos (de 0 a 1)\n",
    "train_data = train_data.astype('float32')/255\n",
    "test_data = test_data.astype('float32')/255"
   ]
  },
  {
   "cell_type": "code",
   "execution_count": 10,
   "metadata": {},
   "outputs": [
    {
     "name": "stdout",
     "output_type": "stream",
     "text": [
      "5\n"
     ]
    }
   ],
   "source": [
    "print(train_labels[0])"
   ]
  },
  {
   "cell_type": "code",
   "execution_count": 11,
   "metadata": {},
   "outputs": [
    {
     "name": "stdout",
     "output_type": "stream",
     "text": [
      "[0. 0. 0. 0. 0. 1. 0. 0. 0. 0.]\n"
     ]
    }
   ],
   "source": [
    "# categorizamos las labels\n",
    "from keras.utils import to_categorical\n",
    "train_labels = to_categorical(train_labels)\n",
    "test_labels = to_categorical(test_labels)\n",
    "print(train_labels[0])"
   ]
  },
  {
   "cell_type": "code",
   "execution_count": 12,
   "metadata": {},
   "outputs": [
    {
     "name": "stdout",
     "output_type": "stream",
     "text": [
      "Epoch 1/5\n",
      "60000/60000 [==============================] - 11s 184us/step - loss: 0.2537 - accuracy: 0.9262\n",
      "Epoch 2/5\n",
      "60000/60000 [==============================] - 12s 205us/step - loss: 0.1032 - accuracy: 0.9692s - loss:\n",
      "Epoch 3/5\n",
      "60000/60000 [==============================] - 12s 202us/step - loss: 0.0675 - accuracy: 0.9801\n",
      "Epoch 4/5\n",
      "60000/60000 [==============================] - 11s 191us/step - loss: 0.0489 - accuracy: 0.9851s\n",
      "Epoch 5/5\n",
      "60000/60000 [==============================] - 11s 184us/step - loss: 0.0368 - accuracy: 0.9883s - loss: 0.0363 -  - ETA: 0s - loss: 0.0367 - accuracy: 0.\n"
     ]
    },
    {
     "data": {
      "text/plain": [
       "<keras.callbacks.callbacks.History at 0x1e65e0d5080>"
      ]
     },
     "execution_count": 12,
     "metadata": {},
     "output_type": "execute_result"
    }
   ],
   "source": [
    "# entrenamos el modelo\n",
    "# eleccion de parametros\n",
    "#   epocas\n",
    "#   batch size\n",
    "network.fit(train_data,train_labels,epochs=5,batch_size=128)"
   ]
  },
  {
   "cell_type": "markdown",
   "metadata": {},
   "source": [
    "Evaluar el modelo con el set de test"
   ]
  },
  {
   "cell_type": "code",
   "execution_count": 13,
   "metadata": {},
   "outputs": [
    {
     "name": "stdout",
     "output_type": "stream",
     "text": [
      "10000/10000 [==============================] - 1s 50us/step\n",
      "Loss 0.07362139124404639, accuracy 0.9787999987602234\n"
     ]
    }
   ],
   "source": [
    "loss, accuracy = network.evaluate(test_data,test_labels)\n",
    "print('Loss {}, accuracy {}'.format(loss,accuracy))"
   ]
  },
  {
   "cell_type": "code",
   "execution_count": 16,
   "metadata": {},
   "outputs": [
    {
     "name": "stdout",
     "output_type": "stream",
     "text": [
      "[[6.1543703e-10 2.7494641e-08 1.7358464e-11 1.1342266e-04 7.3574006e-06\n",
      "  2.8109923e-07 5.8985064e-14 2.5349153e-05 5.3750533e-08 9.9985349e-01]]\n",
      "Total sum is [6.1543703e-10 2.7494641e-08 1.7358464e-11 1.1342266e-04 7.3574006e-06\n",
      " 2.8109923e-07 5.8985064e-14 2.5349153e-05 5.3750533e-08 9.9985349e-01], classified as 9, real value 9\n"
     ]
    }
   ],
   "source": [
    "import numpy as np\n",
    "#predicciones\n",
    "SAMPLE = 1000\n",
    "sample = test_data[SAMPLE,:].reshape((1,28*28))\n",
    "y_value = np.array(test_labels[SAMPLE]).reshape((1,10))\n",
    "predictions = network.predict(sample)\n",
    "print(predictions)\n",
    "print('Total sum is {}, classified as {}, real value {}'.format(sum(predictions),np.argmax(predictions),np.argmax(y_value)))"
   ]
  },
  {
   "cell_type": "markdown",
   "metadata": {},
   "source": [
    "## Ejemplo REUTERS\n",
    "Incluye como representar el proceso de aprendizaje"
   ]
  },
  {
   "cell_type": "code",
   "execution_count": 17,
   "metadata": {},
   "outputs": [],
   "source": [
    "from keras.datasets import reuters\n",
    "\n",
    "WORD_LIMIT = 10000\n",
    "(training_data, training_labels), (testing_data, testing_labels) = reuters.load_data(num_words=WORD_LIMIT)"
   ]
  },
  {
   "cell_type": "code",
   "execution_count": 18,
   "metadata": {},
   "outputs": [
    {
     "data": {
      "text/plain": [
       "'? generale de banque sa lt ? br and lt heller overseas corp of chicago have each taken 50 pct stakes in ? company sa ? factors generale de banque said in a statement it gave no financial details of the transaction sa ? ? turnover in 1986 was 17 5 billion belgian francs reuter 3'"
      ]
     },
     "execution_count": 18,
     "metadata": {},
     "output_type": "execute_result"
    }
   ],
   "source": [
    "# los datos son numericos\n",
    "# para decodificarlos, se puede usar reuters.get_word_index()\n",
    "\n",
    "word_index = reuters.get_word_index()\n",
    "reverse_word_index = dict({value : key for key, value in word_index.items()})\n",
    "decoded = ' '.join(\n",
    "    [reverse_word_index.get(i-3,'?') for i in training_data[1]]\n",
    ")\n",
    "decoded"
   ]
  },
  {
   "cell_type": "code",
   "execution_count": 19,
   "metadata": {},
   "outputs": [],
   "source": [
    "from keras import layers\n",
    "from keras import models\n",
    "\n",
    "model = models.Sequential()\n",
    "model.add(layers.Dense(64,activation='relu',input_shape=(WORD_LIMIT,)))\n",
    "model.add(layers.Dense(64,activation='relu'))\n",
    "model.add(layers.Dense(46,activation='sigmoid')) # output entre 0 y 1, probabilidad"
   ]
  },
  {
   "cell_type": "markdown",
   "metadata": {},
   "source": [
    "Hot encoding palabras\n",
    "<img src=\"img/hot_encoding.png\" width=\"300\">"
   ]
  },
  {
   "cell_type": "code",
   "execution_count": 20,
   "metadata": {},
   "outputs": [],
   "source": [
    "import numpy as np\n",
    "\n",
    "# one hot encoding del input, vector con cada indice indicando si una palabra esta presente\n",
    "def one_hot_encode(data):\n",
    "    encoded = np.zeros((len(data),WORD_LIMIT))\n",
    "    for i, v in enumerate(data):\n",
    "        encoded[i,v] = 1 # localiza las columnas del genero correspondiente, marca con 1\n",
    "    return encoded"
   ]
  },
  {
   "cell_type": "code",
   "execution_count": 21,
   "metadata": {},
   "outputs": [],
   "source": [
    "training_set = one_hot_encode(training_data)\n",
    "testing_set = one_hot_encode(testing_data)"
   ]
  },
  {
   "cell_type": "code",
   "execution_count": 22,
   "metadata": {},
   "outputs": [],
   "source": [
    "from keras.utils import to_categorical\n",
    "\n",
    "y_train = to_categorical(training_labels)\n",
    "y_test = to_categorical(testing_labels)\n"
   ]
  },
  {
   "cell_type": "code",
   "execution_count": 24,
   "metadata": {},
   "outputs": [
    {
     "data": {
      "text/plain": [
       "(2246, 46)"
      ]
     },
     "execution_count": 24,
     "metadata": {},
     "output_type": "execute_result"
    }
   ],
   "source": [
    "y_train.shape\n",
    "y_test.shape"
   ]
  },
  {
   "cell_type": "code",
   "execution_count": 25,
   "metadata": {},
   "outputs": [],
   "source": [
    "model.compile(optimizer='rmsprop',\n",
    "               loss='categorical_crossentropy', # ideal para clasificacion multiclase\n",
    "               metrics=['accuracy'])"
   ]
  },
  {
   "cell_type": "code",
   "execution_count": 12,
   "metadata": {},
   "outputs": [
    {
     "name": "stdout",
     "output_type": "stream",
     "text": [
      "Train on 7185 samples, validate on 1797 samples\n",
      "Epoch 1/20\n",
      "7185/7185 [==============================] - 1s 179us/step - loss: 3.3054 - acc: 0.4628 - val_loss: 2.7945 - val_acc: 0.5281\n",
      "Epoch 2/20\n",
      "7185/7185 [==============================] - 1s 147us/step - loss: 2.3934 - acc: 0.4269 - val_loss: 2.1536 - val_acc: 0.3450\n",
      "Epoch 3/20\n",
      "7185/7185 [==============================] - 1s 148us/step - loss: 1.8666 - acc: 0.3534 - val_loss: 1.8961 - val_acc: 0.3450\n",
      "Epoch 4/20\n",
      "7185/7185 [==============================] - 1s 159us/step - loss: 1.6143 - acc: 0.3534 - val_loss: 1.7745 - val_acc: 0.3450\n",
      "Epoch 5/20\n",
      "7185/7185 [==============================] - 1s 203us/step - loss: 1.3958 - acc: 0.3535 - val_loss: 1.5055 - val_acc: 0.3456\n",
      "Epoch 6/20\n",
      "7185/7185 [==============================] - 1s 165us/step - loss: 1.1410 - acc: 0.3680 - val_loss: 1.3596 - val_acc: 0.4908\n",
      "Epoch 7/20\n",
      "7185/7185 [==============================] - 1s 163us/step - loss: 0.7735 - acc: 0.8021 - val_loss: 1.0487 - val_acc: 0.7596\n",
      "Epoch 8/20\n",
      "7185/7185 [==============================] - 1s 171us/step - loss: 0.5335 - acc: 0.8934 - val_loss: 0.9700 - val_acc: 0.7835\n",
      "Epoch 9/20\n",
      "7185/7185 [==============================] - 1s 171us/step - loss: 0.4267 - acc: 0.9132 - val_loss: 1.0176 - val_acc: 0.7641\n",
      "Epoch 10/20\n",
      "7185/7185 [==============================] - 1s 189us/step - loss: 0.3585 - acc: 0.9251 - val_loss: 0.9666 - val_acc: 0.7885\n",
      "Epoch 11/20\n",
      "7185/7185 [==============================] - 1s 166us/step - loss: 0.3018 - acc: 0.9340 - val_loss: 0.9895 - val_acc: 0.7769\n",
      "Epoch 12/20\n",
      "7185/7185 [==============================] - 1s 165us/step - loss: 0.2577 - acc: 0.9452 - val_loss: 0.9660 - val_acc: 0.7924\n",
      "Epoch 13/20\n",
      "7185/7185 [==============================] - ETA: 0s - loss: 0.2235 - acc: 0.949 - 1s 172us/step - loss: 0.2238 - acc: 0.9489 - val_loss: 1.1376 - val_acc: 0.7357\n",
      "Epoch 14/20\n",
      "7185/7185 [==============================] - 1s 163us/step - loss: 0.2000 - acc: 0.9535 - val_loss: 0.9222 - val_acc: 0.8002\n",
      "Epoch 15/20\n",
      "7185/7185 [==============================] - 1s 164us/step - loss: 0.1801 - acc: 0.9569 - val_loss: 1.1166 - val_acc: 0.7646\n",
      "Epoch 16/20\n",
      "7185/7185 [==============================] - 1s 178us/step - loss: 0.1630 - acc: 0.9566 - val_loss: 1.0575 - val_acc: 0.7885\n",
      "Epoch 17/20\n",
      "7185/7185 [==============================] - ETA: 0s - loss: 0.1474 - acc: 0.959 - 1s 179us/step - loss: 0.1482 - acc: 0.9591 - val_loss: 1.2553 - val_acc: 0.7212\n",
      "Epoch 18/20\n",
      "7185/7185 [==============================] - 1s 166us/step - loss: 0.1408 - acc: 0.9595 - val_loss: 1.1780 - val_acc: 0.7663\n",
      "Epoch 19/20\n",
      "7185/7185 [==============================] - 1s 165us/step - loss: 0.1307 - acc: 0.9594 - val_loss: 1.0954 - val_acc: 0.7824\n",
      "Epoch 20/20\n",
      "7185/7185 [==============================] - 2s 213us/step - loss: 0.1213 - acc: 0.9628 - val_loss: 1.0639 - val_acc: 0.7824\n"
     ]
    }
   ],
   "source": [
    "#obtener historial del entrenamiento para estadisticas\n",
    "history = model.fit(training_set,y_train,epochs=20,batch_size=512,\n",
    "                   validation_split=0.2)"
   ]
  },
  {
   "cell_type": "code",
   "execution_count": 13,
   "metadata": {},
   "outputs": [
    {
     "data": {
      "image/png": "[encoded data removed]",
      "text/plain": [
       "<Figure size 432x288 with 1 Axes>"
      ]
     },
     "metadata": {},
     "output_type": "display_data"
    }
   ],
   "source": [
    "import matplotlib.pyplot as plt\n",
    "%matplotlib inline\n",
    "\n",
    "#plot loss\n",
    "epochs = np.arange(1,len(history.history['loss'])+1)\n",
    "plt.title('Loss over training')\n",
    "plt.xlabel('epoch')\n",
    "plt.ylabel('loss')\n",
    "plt.plot(epochs,history.history['loss'],'r',label='training loss')\n",
    "plt.plot(epochs,history.history['val_loss'],'b',label='validation loss')\n",
    "plt.legend(loc='best')\n",
    "plt.show()"
   ]
  },
  {
   "cell_type": "code",
   "execution_count": 14,
   "metadata": {},
   "outputs": [
    {
     "data": {
      "image/png": "[encoded data removed]",
      "text/plain": [
       "<Figure size 432x288 with 1 Axes>"
      ]
     },
     "metadata": {},
     "output_type": "display_data"
    }
   ],
   "source": [
    "#plot accuracy\n",
    "epochs = np.arange(1,len(history.history['acc'])+1)\n",
    "plt.title('Accuracy over training')\n",
    "plt.xlabel('epoch')\n",
    "plt.ylabel('accuracy')\n",
    "plt.plot(epochs,history.history['acc'],'r',label='training accuracy')\n",
    "plt.plot(epochs,history.history['val_acc'],'b',label='validation accuracy')\n",
    "plt.legend(loc='best')\n",
    "plt.show()"
   ]
  },
  {
   "cell_type": "code",
   "execution_count": 15,
   "metadata": {},
   "outputs": [
    {
     "name": "stdout",
     "output_type": "stream",
     "text": [
      "2246/2246 [==============================] - 0s 140us/step\n"
     ]
    }
   ],
   "source": [
    "model.predict(testing_set)\n",
    "loss, accuracy = model.evaluate(testing_set,y_test)"
   ]
  },
  {
   "cell_type": "code",
   "execution_count": 16,
   "metadata": {},
   "outputs": [
    {
     "name": "stdout",
     "output_type": "stream",
     "text": [
      "Loss 1.1145100969346846, accuracy 0.778717720444884\n"
     ]
    }
   ],
   "source": [
    "print('Loss {}, accuracy {}'.format(loss,accuracy))"
   ]
  },
  {
   "cell_type": "markdown",
   "metadata": {
    "slideshow": {
     "slide_type": "slide"
    }
   },
   "source": [
    "### Ejercicio\n",
    "Comparar los resultados con otros modelos\n",
    "- alterar la arquitectura de la red (numero de neuronas, numero de layers)\n",
    "- Mostrar que con menos hidden units se pierde info que no se puede recuperar\n",
    "- 'tanh' en vez de 'relu'\n",
    "- distinto split training / validation (mayoria validation)"
   ]
  },
  {
   "cell_type": "markdown",
   "metadata": {
    "slideshow": {
     "slide_type": "slide"
    }
   },
   "source": [
    "# Optimizacion de redes neuronales\n",
    "- Preprocesado para ANN: \n",
    " - vectorizacion del input (tensores)\n",
    " - normalizacion de valores para acelerar entrenamiento (todas las features deben tener misma escala), media 0 std 1\n",
    " - Valores missing: eliminar, utilizar 0 (si 0 no tiene significado)"
   ]
  },
  {
   "cell_type": "markdown",
   "metadata": {
    "slideshow": {
     "slide_type": "fragment"
    }
   },
   "source": [
    "- Feature engineering (menos importante en deep learning)\n",
    " - Feature cross\n",
    " - creacion de features basadas en el dominio"
   ]
  },
  {
   "cell_type": "markdown",
   "metadata": {
    "slideshow": {
     "slide_type": "fragment"
    }
   },
   "source": [
    "- Weight regularization\n",
    "- Dropout"
   ]
  },
  {
   "cell_type": "markdown",
   "metadata": {
    "slideshow": {
     "slide_type": "subslide"
    }
   },
   "source": [
    "### Weight regularisation\n",
    "\n",
    "- El modelo mas sencillo (menos parametros) que explique los datos es preferido\n",
    "- Evitar overfitting\n",
    "- Hace que los parametros tengan valores muy pequeños (coste a cada solución dependiente de la magnitud de los parametros)\n",
    " - coste proporcional al valor absoluto (L1) o proporcional a la raiz cuadrada del valor"
   ]
  },
  {
   "cell_type": "code",
   "execution_count": 18,
   "metadata": {
    "slideshow": {
     "slide_type": "slide"
    }
   },
   "outputs": [],
   "source": [
    "from keras.datasets import mnist\n",
    "from keras import models\n",
    "from keras import layers\n",
    "\n",
    "(train_data, train_labels), (test_data, test_labels) = mnist.load_data()\n",
    "\n",
    "train_data = train_data.reshape((60000,28*28))\n",
    "train_data = train_data.astype('float32')/255\n",
    "test_data = test_data.reshape((10000,28*28))\n",
    "test_data = test_data.astype('float32')/255\n",
    "\n",
    "from keras.utils import to_categorical\n",
    "train_labels = to_categorical(train_labels)\n",
    "test_labels = to_categorical(test_labels)\n"
   ]
  },
  {
   "cell_type": "code",
   "execution_count": 19,
   "metadata": {},
   "outputs": [
    {
     "name": "stdout",
     "output_type": "stream",
     "text": [
      "Train on 11999 samples, validate on 48001 samples\n",
      "Epoch 1/30\n",
      "11999/11999 [==============================] - 2s 149us/step - loss: 0.4520 - acc: 0.8643 - val_loss: 0.2813 - val_acc: 0.9144\n",
      "Epoch 2/30\n",
      "11999/11999 [==============================] - 2s 144us/step - loss: 0.1919 - acc: 0.9439 - val_loss: 0.2219 - val_acc: 0.9318\n",
      "Epoch 3/30\n",
      "11999/11999 [==============================] - 2s 149us/step - loss: 0.1198 - acc: 0.9656 - val_loss: 0.1611 - val_acc: 0.9520\n",
      "Epoch 4/30\n",
      "11999/11999 [==============================] - 2s 161us/step - loss: 0.0777 - acc: 0.9763 - val_loss: 0.1565 - val_acc: 0.9536\n",
      "Epoch 5/30\n",
      "11999/11999 [==============================] - 2s 146us/step - loss: 0.0550 - acc: 0.9833 - val_loss: 0.1484 - val_acc: 0.9571\n",
      "Epoch 6/30\n",
      "11999/11999 [==============================] - 2s 151us/step - loss: 0.0371 - acc: 0.9887 - val_loss: 0.1505 - val_acc: 0.9588\n",
      "Epoch 7/30\n",
      "11999/11999 [==============================] - 3s 216us/step - loss: 0.0217 - acc: 0.9935 - val_loss: 0.1900 - val_acc: 0.9527\n",
      "Epoch 8/30\n",
      "11999/11999 [==============================] - 2s 196us/step - loss: 0.0196 - acc: 0.9941 - val_loss: 0.1588 - val_acc: 0.9618\n",
      "Epoch 9/30\n",
      "11999/11999 [==============================] - 2s 196us/step - loss: 0.0119 - acc: 0.9972 - val_loss: 0.1699 - val_acc: 0.9628\n",
      "Epoch 10/30\n",
      "11999/11999 [==============================] - 3s 211us/step - loss: 0.0096 - acc: 0.9970 - val_loss: 0.2338 - val_acc: 0.9524\n",
      "Epoch 11/30\n",
      "11999/11999 [==============================] - 2s 189us/step - loss: 0.0082 - acc: 0.9977 - val_loss: 0.1880 - val_acc: 0.9606\n",
      "Epoch 12/30\n",
      "11999/11999 [==============================] - 2s 188us/step - loss: 0.0060 - acc: 0.9982 - val_loss: 0.1962 - val_acc: 0.9626\n",
      "Epoch 13/30\n",
      "11999/11999 [==============================] - 2s 181us/step - loss: 0.0053 - acc: 0.9988 - val_loss: 0.2040 - val_acc: 0.9621\n",
      "Epoch 14/30\n",
      "11999/11999 [==============================] - 2s 184us/step - loss: 0.0061 - acc: 0.9983 - val_loss: 0.2017 - val_acc: 0.9639\n",
      "Epoch 15/30\n",
      "11999/11999 [==============================] - 2s 200us/step - loss: 0.0044 - acc: 0.9987 - val_loss: 0.2631 - val_acc: 0.9543\n",
      "Epoch 16/30\n",
      "11999/11999 [==============================] - 2s 182us/step - loss: 0.0053 - acc: 0.9988 - val_loss: 0.2133 - val_acc: 0.9634\n",
      "Epoch 17/30\n",
      "11999/11999 [==============================] - 2s 191us/step - loss: 0.0022 - acc: 0.9994 - val_loss: 0.2955 - val_acc: 0.9523\n",
      "Epoch 18/30\n",
      "11999/11999 [==============================] - 2s 184us/step - loss: 0.0047 - acc: 0.9988 - val_loss: 0.2248 - val_acc: 0.9637\n",
      "Epoch 19/30\n",
      "11999/11999 [==============================] - 2s 180us/step - loss: 0.0025 - acc: 0.9992 - val_loss: 0.2459 - val_acc: 0.9613\n",
      "Epoch 20/30\n",
      "11999/11999 [==============================] - 2s 183us/step - loss: 0.0039 - acc: 0.9989 - val_loss: 0.2253 - val_acc: 0.9648\n",
      "Epoch 21/30\n",
      "11999/11999 [==============================] - 2s 188us/step - loss: 0.0028 - acc: 0.9992 - val_loss: 0.2452 - val_acc: 0.9634\n",
      "Epoch 22/30\n",
      "11999/11999 [==============================] - 2s 185us/step - loss: 0.0015 - acc: 0.9996 - val_loss: 0.3200 - val_acc: 0.9531\n",
      "Epoch 23/30\n",
      "11999/11999 [==============================] - 2s 206us/step - loss: 0.0020 - acc: 0.9994 - val_loss: 0.2841 - val_acc: 0.9588\n",
      "Epoch 24/30\n",
      "11999/11999 [==============================] - 2s 208us/step - loss: 0.0013 - acc: 0.9995 - val_loss: 0.2652 - val_acc: 0.9622\n",
      "Epoch 25/30\n",
      "11999/11999 [==============================] - 2s 198us/step - loss: 0.0029 - acc: 0.9990 - val_loss: 0.2732 - val_acc: 0.9629\n",
      "Epoch 26/30\n",
      "11999/11999 [==============================] - 3s 223us/step - loss: 0.0014 - acc: 0.9997 - val_loss: 0.2601 - val_acc: 0.9639\n",
      "Epoch 27/30\n",
      "11999/11999 [==============================] - 2s 182us/step - loss: 0.0021 - acc: 0.9996 - val_loss: 0.2519 - val_acc: 0.9644\n",
      "Epoch 28/30\n",
      "11999/11999 [==============================] - 2s 183us/step - loss: 0.0012 - acc: 0.9996 - val_loss: 0.2995 - val_acc: 0.9598\n",
      "Epoch 29/30\n",
      "11999/11999 [==============================] - 2s 184us/step - loss: 6.7368e-04 - acc: 0.9997 - val_loss: 0.2707 - val_acc: 0.9649\n",
      "Epoch 30/30\n",
      "11999/11999 [==============================] - 2s 197us/step - loss: 0.0012 - acc: 0.9997 - val_loss: 0.3039 - val_acc: 0.9618\n"
     ]
    }
   ],
   "source": [
    "#modelo sin regularizacion\n",
    "network = models.Sequential()\n",
    "network.add(layers.Dense(512,activation='relu',input_shape=(28*28,)))\n",
    "network.add(layers.Dense(256,activation='relu'))\n",
    "network.add(layers.Dense(10,activation='softmax'))\n",
    "\n",
    "network.compile(optimizer='rmsprop',\n",
    "               loss='categorical_crossentropy',\n",
    "               metrics=['accuracy'])\n",
    "\n",
    "history_network = network.fit(train_data,train_labels,epochs=30,batch_size=128,validation_split=0.8)"
   ]
  },
  {
   "cell_type": "code",
   "execution_count": 20,
   "metadata": {},
   "outputs": [
    {
     "name": "stdout",
     "output_type": "stream",
     "text": [
      "Train on 11999 samples, validate on 48001 samples\n",
      "Epoch 1/30\n",
      "11999/11999 [==============================] - 3s 235us/step - loss: 1.1109 - acc: 0.8506 - val_loss: 0.7545 - val_acc: 0.9186\n",
      "Epoch 2/30\n",
      "11999/11999 [==============================] - 3s 232us/step - loss: 0.6365 - acc: 0.9329 - val_loss: 0.6075 - val_acc: 0.9243\n",
      "Epoch 3/30\n",
      "11999/11999 [==============================] - 3s 223us/step - loss: 0.4742 - acc: 0.9525 - val_loss: 0.4865 - val_acc: 0.9346\n",
      "Epoch 4/30\n",
      "11999/11999 [==============================] - 3s 225us/step - loss: 0.3828 - acc: 0.9602 - val_loss: 0.4241 - val_acc: 0.9381\n",
      "Epoch 5/30\n",
      "11999/11999 [==============================] - 3s 230us/step - loss: 0.3139 - acc: 0.9679 - val_loss: 0.4167 - val_acc: 0.9264\n",
      "Epoch 6/30\n",
      "11999/11999 [==============================] - 3s 223us/step - loss: 0.2774 - acc: 0.9692 - val_loss: 0.3266 - val_acc: 0.9500\n",
      "Epoch 7/30\n",
      "11999/11999 [==============================] - 3s 231us/step - loss: 0.2445 - acc: 0.9727 - val_loss: 0.3212 - val_acc: 0.9476\n",
      "Epoch 8/30\n",
      "11999/11999 [==============================] - 3s 226us/step - loss: 0.2247 - acc: 0.9737 - val_loss: 0.3278 - val_acc: 0.9396\n",
      "Epoch 9/30\n",
      "11999/11999 [==============================] - 3s 225us/step - loss: 0.2053 - acc: 0.9765 - val_loss: 0.2631 - val_acc: 0.9569\n",
      "Epoch 10/30\n",
      "11999/11999 [==============================] - 3s 227us/step - loss: 0.1904 - acc: 0.9789 - val_loss: 0.2921 - val_acc: 0.9440\n",
      "Epoch 11/30\n",
      "11999/11999 [==============================] - 3s 237us/step - loss: 0.1829 - acc: 0.9793 - val_loss: 0.2423 - val_acc: 0.9578\n",
      "Epoch 12/30\n",
      "11999/11999 [==============================] - 3s 227us/step - loss: 0.1700 - acc: 0.9819 - val_loss: 0.2462 - val_acc: 0.9578\n",
      "Epoch 13/30\n",
      "11999/11999 [==============================] - 3s 226us/step - loss: 0.1622 - acc: 0.9823 - val_loss: 0.2401 - val_acc: 0.9573\n",
      "Epoch 14/30\n",
      "11999/11999 [==============================] - 3s 241us/step - loss: 0.1560 - acc: 0.9835 - val_loss: 0.2226 - val_acc: 0.9619\n",
      "Epoch 15/30\n",
      "11999/11999 [==============================] - 3s 238us/step - loss: 0.1478 - acc: 0.9849 - val_loss: 0.2387 - val_acc: 0.9566\n",
      "Epoch 16/30\n",
      "11999/11999 [==============================] - 3s 239us/step - loss: 0.1431 - acc: 0.9852 - val_loss: 0.2302 - val_acc: 0.9572\n",
      "Epoch 17/30\n",
      "11999/11999 [==============================] - 3s 230us/step - loss: 0.1375 - acc: 0.9852 - val_loss: 0.2159 - val_acc: 0.9600\n",
      "Epoch 18/30\n",
      "11999/11999 [==============================] - 3s 233us/step - loss: 0.1305 - acc: 0.9875 - val_loss: 0.2454 - val_acc: 0.9510\n",
      "Epoch 19/30\n",
      "11999/11999 [==============================] - 3s 224us/step - loss: 0.1295 - acc: 0.9881 - val_loss: 0.2065 - val_acc: 0.9627\n",
      "Epoch 20/30\n",
      "11999/11999 [==============================] - 3s 226us/step - loss: 0.1211 - acc: 0.9897 - val_loss: 0.2380 - val_acc: 0.9507\n",
      "Epoch 21/30\n",
      "11999/11999 [==============================] - 3s 231us/step - loss: 0.1207 - acc: 0.9881 - val_loss: 0.2095 - val_acc: 0.9596\n",
      "Epoch 22/30\n",
      "11999/11999 [==============================] - 3s 226us/step - loss: 0.1174 - acc: 0.9886 - val_loss: 0.2079 - val_acc: 0.9597\n",
      "Epoch 23/30\n",
      "11999/11999 [==============================] - 3s 219us/step - loss: 0.1146 - acc: 0.9889 - val_loss: 0.2001 - val_acc: 0.9626\n",
      "Epoch 24/30\n",
      "11999/11999 [==============================] - 3s 226us/step - loss: 0.1091 - acc: 0.9900 - val_loss: 0.2412 - val_acc: 0.9489\n",
      "Epoch 25/30\n",
      "11999/11999 [==============================] - 3s 222us/step - loss: 0.1066 - acc: 0.9912 - val_loss: 0.2038 - val_acc: 0.9606\n",
      "Epoch 26/30\n",
      "11999/11999 [==============================] - 3s 218us/step - loss: 0.1048 - acc: 0.9915 - val_loss: 0.2100 - val_acc: 0.9576\n",
      "Epoch 27/30\n",
      "11999/11999 [==============================] - 3s 232us/step - loss: 0.1022 - acc: 0.9917 - val_loss: 0.1947 - val_acc: 0.9626\n",
      "Epoch 28/30\n",
      "11999/11999 [==============================] - 3s 262us/step - loss: 0.1000 - acc: 0.9922 - val_loss: 0.2493 - val_acc: 0.9463\n",
      "Epoch 29/30\n",
      "11999/11999 [==============================] - 3s 256us/step - loss: 0.0987 - acc: 0.9917 - val_loss: 0.1913 - val_acc: 0.9614\n",
      "Epoch 30/30\n",
      "11999/11999 [==============================] - 3s 212us/step - loss: 0.0977 - acc: 0.9915 - val_loss: 0.2004 - val_acc: 0.9594\n"
     ]
    }
   ],
   "source": [
    "#modelo con regularizacion L2\n",
    "from keras import regularizers\n",
    "\n",
    "network_l2reg = models.Sequential()\n",
    "network_l2reg.add(layers.Dense(512,activation='relu',kernel_regularizer=regularizers.l2(0.001),input_shape=(28*28,)))\n",
    "network_l2reg.add(layers.Dense(256,activation='relu',kernel_regularizer=regularizers.l2(0.001)))\n",
    "network_l2reg.add(layers.Dense(10,activation='softmax'))\n",
    "\n",
    "network_l2reg.compile(optimizer='rmsprop',\n",
    "               loss='categorical_crossentropy',\n",
    "               metrics=['accuracy'])\n",
    "\n",
    "history_network_l2reg = network_l2reg.fit(train_data,train_labels,epochs=30,batch_size=128,validation_split=0.8)"
   ]
  },
  {
   "cell_type": "code",
   "execution_count": 21,
   "metadata": {},
   "outputs": [
    {
     "data": {
      "image/png": "[encoded data removed]",
      "text/plain": [
       "<Figure size 432x288 with 1 Axes>"
      ]
     },
     "metadata": {},
     "output_type": "display_data"
    }
   ],
   "source": [
    "import matplotlib.pyplot as plt\n",
    "%matplotlib inline\n",
    "\n",
    "#plot loss\n",
    "epochs = np.arange(1,len(history_network_l2reg.history['loss'])+1)\n",
    "plt.title('Validation loss')\n",
    "plt.xlabel('epoch')\n",
    "plt.ylabel('loss')\n",
    "plt.plot(epochs,history_network_l2reg.history['val_loss'],'r',label='L2 regularisation')\n",
    "plt.plot(epochs,history_network.history['val_loss'],'b',label='Normal model')\n",
    "plt.legend(loc='best')\n",
    "plt.show()"
   ]
  },
  {
   "cell_type": "markdown",
   "metadata": {
    "slideshow": {
     "slide_type": "slide"
    }
   },
   "source": [
    "### Dropout\n",
    "\n",
    "- Aleatoriamente poner 0 en output features de una capa\n",
    "- Dropout rate determina la proporcion de 0s\n",
    "- Funciona al eliminar patrones espurios (evita overfitting)"
   ]
  },
  {
   "cell_type": "code",
   "execution_count": 22,
   "metadata": {},
   "outputs": [
    {
     "name": "stdout",
     "output_type": "stream",
     "text": [
      "Train on 11999 samples, validate on 48001 samples\n",
      "Epoch 1/30\n",
      "11999/11999 [==============================] - 3s 219us/step - loss: 0.7069 - acc: 0.7778 - val_loss: 0.3199 - val_acc: 0.9034\n",
      "Epoch 2/30\n",
      "11999/11999 [==============================] - 2s 190us/step - loss: 0.3306 - acc: 0.8994 - val_loss: 0.2363 - val_acc: 0.9264\n",
      "Epoch 3/30\n",
      "11999/11999 [==============================] - 3s 229us/step - loss: 0.2420 - acc: 0.9292 - val_loss: 0.2011 - val_acc: 0.9379\n",
      "Epoch 4/30\n",
      "11999/11999 [==============================] - 4s 312us/step - loss: 0.1966 - acc: 0.9410 - val_loss: 0.1776 - val_acc: 0.9469\n",
      "Epoch 5/30\n",
      "11999/11999 [==============================] - 3s 244us/step - loss: 0.1629 - acc: 0.9499 - val_loss: 0.1672 - val_acc: 0.9498\n",
      "Epoch 6/30\n",
      "11999/11999 [==============================] - 4s 294us/step - loss: 0.1459 - acc: 0.9562 - val_loss: 0.1645 - val_acc: 0.9524\n",
      "Epoch 7/30\n",
      "11999/11999 [==============================] - 3s 215us/step - loss: 0.1248 - acc: 0.9629 - val_loss: 0.1629 - val_acc: 0.9540\n",
      "Epoch 8/30\n",
      "11999/11999 [==============================] - 3s 239us/step - loss: 0.1125 - acc: 0.9662 - val_loss: 0.1585 - val_acc: 0.9569\n",
      "Epoch 9/30\n",
      "11999/11999 [==============================] - 3s 226us/step - loss: 0.0954 - acc: 0.9725 - val_loss: 0.1601 - val_acc: 0.9580\n",
      "Epoch 10/30\n",
      "11999/11999 [==============================] - 2s 200us/step - loss: 0.0871 - acc: 0.9719 - val_loss: 0.1665 - val_acc: 0.9576\n",
      "Epoch 11/30\n",
      "11999/11999 [==============================] - 3s 227us/step - loss: 0.0827 - acc: 0.9736 - val_loss: 0.1580 - val_acc: 0.9606\n",
      "Epoch 12/30\n",
      "11999/11999 [==============================] - 3s 261us/step - loss: 0.0677 - acc: 0.9793 - val_loss: 0.1655 - val_acc: 0.9603\n",
      "Epoch 13/30\n",
      "11999/11999 [==============================] - 2s 199us/step - loss: 0.0686 - acc: 0.9786 - val_loss: 0.1816 - val_acc: 0.9571\n",
      "Epoch 14/30\n",
      "11999/11999 [==============================] - 2s 202us/step - loss: 0.0653 - acc: 0.9804 - val_loss: 0.1584 - val_acc: 0.9631\n",
      "Epoch 15/30\n",
      "11999/11999 [==============================] - 2s 189us/step - loss: 0.0586 - acc: 0.9812 - val_loss: 0.1621 - val_acc: 0.9621\n",
      "Epoch 16/30\n",
      "11999/11999 [==============================] - 2s 199us/step - loss: 0.0561 - acc: 0.9842 - val_loss: 0.1609 - val_acc: 0.9637\n",
      "Epoch 17/30\n",
      "11999/11999 [==============================] - 2s 202us/step - loss: 0.0504 - acc: 0.9848 - val_loss: 0.1690 - val_acc: 0.9622\n",
      "Epoch 18/30\n",
      "11999/11999 [==============================] - 2s 199us/step - loss: 0.0487 - acc: 0.9842 - val_loss: 0.1788 - val_acc: 0.9629\n",
      "Epoch 19/30\n",
      "11999/11999 [==============================] - 2s 195us/step - loss: 0.0427 - acc: 0.9857 - val_loss: 0.1736 - val_acc: 0.9648\n",
      "Epoch 20/30\n",
      "11999/11999 [==============================] - 3s 219us/step - loss: 0.0445 - acc: 0.9862 - val_loss: 0.1865 - val_acc: 0.9628\n",
      "Epoch 21/30\n",
      "11999/11999 [==============================] - 3s 259us/step - loss: 0.0476 - acc: 0.9856 - val_loss: 0.1787 - val_acc: 0.9650\n",
      "Epoch 22/30\n",
      "11999/11999 [==============================] - 2s 191us/step - loss: 0.0381 - acc: 0.9877 - val_loss: 0.1861 - val_acc: 0.9647\n",
      "Epoch 23/30\n",
      "11999/11999 [==============================] - 2s 196us/step - loss: 0.0378 - acc: 0.9873 - val_loss: 0.1896 - val_acc: 0.9640\n",
      "Epoch 24/30\n",
      "11999/11999 [==============================] - 2s 198us/step - loss: 0.0365 - acc: 0.9886 - val_loss: 0.1892 - val_acc: 0.9653\n",
      "Epoch 25/30\n",
      "11999/11999 [==============================] - 2s 197us/step - loss: 0.0383 - acc: 0.9885 - val_loss: 0.2024 - val_acc: 0.9634\n",
      "Epoch 26/30\n",
      "11999/11999 [==============================] - 2s 199us/step - loss: 0.0327 - acc: 0.9896 - val_loss: 0.1987 - val_acc: 0.9648\n",
      "Epoch 27/30\n",
      "11999/11999 [==============================] - 3s 217us/step - loss: 0.0314 - acc: 0.9896 - val_loss: 0.2049 - val_acc: 0.9649\n",
      "Epoch 28/30\n",
      "11999/11999 [==============================] - 2s 198us/step - loss: 0.0334 - acc: 0.9897 - val_loss: 0.1948 - val_acc: 0.9661\n",
      "Epoch 29/30\n",
      "11999/11999 [==============================] - 3s 216us/step - loss: 0.0349 - acc: 0.9903 - val_loss: 0.1987 - val_acc: 0.9656\n",
      "Epoch 30/30\n",
      "11999/11999 [==============================] - 2s 205us/step - loss: 0.0314 - acc: 0.9905 - val_loss: 0.2129 - val_acc: 0.9651\n"
     ]
    }
   ],
   "source": [
    "#modelo con regularizacion por dropout\n",
    "network_dropout = models.Sequential()\n",
    "network_dropout.add(layers.Dense(512,activation='relu',input_shape=(28*28,)))\n",
    "network_dropout.add(layers.Dropout(0.5))\n",
    "network_dropout.add(layers.Dense(256,activation='relu'))\n",
    "network_dropout.add(layers.Dropout(0.5))\n",
    "network_dropout.add(layers.Dense(10,activation='softmax'))\n",
    "\n",
    "network_dropout.compile(optimizer='rmsprop',\n",
    "               loss='categorical_crossentropy',\n",
    "               metrics=['accuracy'])\n",
    "\n",
    "history_network_dropout = network_dropout.fit(train_data,train_labels,epochs=30,batch_size=128,validation_split=0.8)"
   ]
  },
  {
   "cell_type": "code",
   "execution_count": 23,
   "metadata": {},
   "outputs": [
    {
     "data": {
      "image/png": "[encoded data removed]",
      "text/plain": [
       "<Figure size 432x288 with 1 Axes>"
      ]
     },
     "metadata": {},
     "output_type": "display_data"
    }
   ],
   "source": [
    "import matplotlib.pyplot as plt\n",
    "%matplotlib inline\n",
    "\n",
    "#plot loss\n",
    "epochs = np.arange(1,len(history_network_l2reg.history['loss'])+1)\n",
    "plt.title('Validation loss')\n",
    "plt.xlabel('epoch')\n",
    "plt.ylabel('loss')\n",
    "plt.plot(epochs,history_network_dropout.history['val_loss'],'r',label='Dropout regularisation')\n",
    "plt.plot(epochs,history_network.history['val_loss'],'b',label='Normal model')\n",
    "plt.legend(loc='best')\n",
    "plt.show()"
   ]
  },
  {
   "cell_type": "markdown",
   "metadata": {
    "slideshow": {
     "slide_type": "slide"
    }
   },
   "source": [
    "## Función de pérdida / función de activación\n",
    "\n",
    "- Dependiente del problema\n",
    " - clasificación binaria: activación ultima capa (sigmoide), función de perdida (binary_crossentropy)\n",
    " - clasificacion multiclase: activación ultima capa (softmax), función de perdida (categorical_crossentropy)\n",
    " - regresión con valores arbitrarios: activación ultima capa (none), función de perdida (mse)\n",
    " - regresión valores 0 a 1: activación ultima capa (sigmoide), función de perdida (mse o binary_crossentropy)\n",
    " \n",
    " Info en Keras https://keras.io/losses/"
   ]
  },
  {
   "cell_type": "code",
   "execution_count": null,
   "metadata": {},
   "outputs": [],
   "source": []
  }
 ],
 "metadata": {
  "celltoolbar": "Slideshow",
  "kernelspec": {
   "display_name": "Python 3",
   "language": "python",
   "name": "python3"
  },
  "language_info": {
   "codemirror_mode": {
    "name": "ipython",
    "version": 3
   },
   "file_extension": ".py",
   "mimetype": "text/x-python",
   "name": "python",
   "nbconvert_exporter": "python",
   "pygments_lexer": "ipython3",
   "version": "3.7.3"
  }
 },
 "nbformat": 4,
 "nbformat_minor": 2
}
