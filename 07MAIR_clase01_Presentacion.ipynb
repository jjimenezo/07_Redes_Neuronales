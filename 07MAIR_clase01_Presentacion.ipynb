{
 "cells": [
  {
   "cell_type": "markdown",
   "metadata": {
    "colab_type": "text",
    "id": "iCFnUanFwIBz",
    "slideshow": {
     "slide_type": "slide"
    }
   },
   "source": [
    "<img src=\"img/viu_logo.png\" width=\"200\">\n",
    "\n",
    "# 07MAIR - Redes Neuronales y Deep Learning\n",
    "## Clase 01: Presentación de la asignatura\n",
    "<img src=\"img/keras_logo.jpg\" width=\"200\">\n",
    "\n",
    "### Profesores: Adrián Colomer Granero / Gabriel Enrique Muñoz Ríos\n",
    "### Autor: Carlos Fernández Musoles"
   ]
  },
  {
   "cell_type": "markdown",
   "metadata": {
    "colab_type": "text",
    "id": "xojCTM4gwIB0",
    "slideshow": {
     "slide_type": "slide"
    }
   },
   "source": [
    "## Sumario\n",
    "- Estructura de la asignatura\n",
    "- Contenidos y objetivos\n",
    "- Evaluación\n"
   ]
  },
  {
   "cell_type": "markdown",
   "metadata": {
    "colab_type": "text",
    "id": "R_a61ucnwIB2",
    "slideshow": {
     "slide_type": "slide"
    }
   },
   "source": [
    "## Contenidos\n",
    "- Fundamentos de redes neuronales artificiales\n",
    "  - Entrenamiento\n",
    "  - Optimización\n",
    "- Introduccion a deep learning\n",
    "  - Arquitecturas\n",
    "  - Percepción: imágenes y texto\n",
    "- Aprendizaje por refuerzo\n",
    " - Introducción y conceptos\n",
    " - Deep Reinforcement Learning\n"
   ]
  },
  {
   "cell_type": "markdown",
   "metadata": {
    "colab_type": "text",
    "id": "JO2nxlzrwIB2",
    "slideshow": {
     "slide_type": "slide"
    }
   },
   "source": [
    "## Evaluación\n",
    "Una actividad por cada parte:\n",
    "- Actividad 1 (60%): 12 de Mayo. Ejercicio sobre percepción. Deep Vision\n",
    "- Actividad 2 (40%): 26 de Mayo. Ejercicio sobre algoritmos de aprendizaje por refuerzo"
   ]
  },
  {
   "cell_type": "markdown",
   "metadata": {
    "colab_type": "text",
    "id": "CskYInImwIB4",
    "slideshow": {
     "slide_type": "slide"
    }
   },
   "source": [
    "## Uso de Jupyter notebook\n",
    "- Presentaciones, ejercicios, actividades... __todo__ notebooks\n",
    "- HTML + codigo en vivo\n",
    "- Facilita la colaboración y la presentación interactiva de código\n",
    "- En la terminal: __jupyter notebook__\n",
    "- Archivos _.ipynb_\n",
    "- Documentación https://jupyter.readthedocs.io/en/latest/"
   ]
  },
  {
   "cell_type": "markdown",
   "metadata": {
    "colab_type": "text",
    "id": "UNimgG-6wIB4",
    "slideshow": {
     "slide_type": "subslide"
    }
   },
   "source": [
    "# Recursos de la asignatura\n",
    "- En el aula virtual\n",
    " - Jupyter notebooks de las clases\n",
    " - Actividades (descripción y entregas)"
   ]
  },
  {
   "cell_type": "markdown",
   "metadata": {
    "colab_type": "text",
    "id": "mn0t4iykwIB5",
    "slideshow": {
     "slide_type": "fragment"
    }
   },
   "source": [
    "- Documentación oficial \n",
    " - Keras: https://keras.io/\n"
   ]
  },
  {
   "cell_type": "markdown",
   "metadata": {
    "colab_type": "text",
    "id": "tJ1Nx7LVwIB6",
    "slideshow": {
     "slide_type": "slide"
    }
   },
   "source": [
    "- Bibliografía recomendada\n",
    "<img src=\"img/chollet_book.jpg\" width=\"300\">\n",
    "<img src=\"img/sutton_book.jpg\" width=\"300\">"
   ]
  }
 ],
 "metadata": {
  "celltoolbar": "Slideshow",
  "colab": {
   "name": "07MAIR_clase01_Presentacion.ipynb",
   "provenance": []
  },
  "kernelspec": {
   "display_name": "Python 3",
   "language": "python",
   "name": "python3"
  },
  "language_info": {
   "codemirror_mode": {
    "name": "ipython",
    "version": 3
   },
   "file_extension": ".py",
   "mimetype": "text/x-python",
   "name": "python",
   "nbconvert_exporter": "python",
   "pygments_lexer": "ipython3",
   "version": "3.7.3"
  }
 },
 "nbformat": 4,
 "nbformat_minor": 1
}
